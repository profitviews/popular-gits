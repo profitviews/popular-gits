{
 "cells": [
  {
   "cell_type": "code",
   "execution_count": null,
   "id": "3066057d",
   "metadata": {},
   "outputs": [],
   "source": [
    "import sys\n",
    "!{sys.executable} -m pip install PyGithub\n"
   ]
  },
  {
   "cell_type": "code",
   "execution_count": null,
   "id": "474a219e",
   "metadata": {},
   "outputs": [],
   "source": [
    "import popular_gits"
   ]
  },
  {
   "cell_type": "code",
   "execution_count": null,
   "id": "3201b56e",
   "metadata": {},
   "outputs": [],
   "source": [
    "import os"
   ]
  },
  {
   "cell_type": "code",
   "execution_count": null,
   "id": "8a09a252",
   "metadata": {},
   "outputs": [],
   "source": [
    "sg = popular_gits.popular_gits(\"pvgits\", os.environ['GITHUB_KEY'], \"profitviews\", \"popular-gits\")"
   ]
  },
  {
   "cell_type": "code",
   "execution_count": null,
   "id": "91acddae",
   "metadata": {},
   "outputs": [],
   "source": [
    "# sg.reset()"
   ]
  },
  {
   "cell_type": "code",
   "execution_count": null,
   "id": "2365a216",
   "metadata": {},
   "outputs": [],
   "source": [
    "sg.run()"
   ]
  },
  {
   "cell_type": "code",
   "execution_count": 2,
   "id": "8406e17e",
   "metadata": {},
   "outputs": [],
   "source": [
    "import categorise"
   ]
  },
  {
   "cell_type": "code",
   "execution_count": 3,
   "id": "85598570",
   "metadata": {},
   "outputs": [],
   "source": [
    "r = categorise.get_popularity_lists('QuantlibStarredGithubs_Top150.csv')"
   ]
  },
  {
   "cell_type": "code",
   "execution_count": 4,
   "id": "4412042e",
   "metadata": {},
   "outputs": [],
   "source": [
    "categorise.create_popularity_list_file(r, 'QuantlibPopularLists.csv')"
   ]
  },
  {
   "cell_type": "code",
   "execution_count": null,
   "id": "bcf40084",
   "metadata": {},
   "outputs": [],
   "source": []
  },
  {
   "cell_type": "code",
   "execution_count": null,
   "id": "d040d975",
   "metadata": {},
   "outputs": [],
   "source": []
  }
 ],
 "metadata": {
  "kernelspec": {
   "display_name": "env",
   "language": "python",
   "name": "env"
  },
  "language_info": {
   "codemirror_mode": {
    "name": "ipython",
    "version": 3
   },
   "file_extension": ".py",
   "mimetype": "text/x-python",
   "name": "python",
   "nbconvert_exporter": "python",
   "pygments_lexer": "ipython3",
   "version": "3.9.7"
  }
 },
 "nbformat": 4,
 "nbformat_minor": 5
}

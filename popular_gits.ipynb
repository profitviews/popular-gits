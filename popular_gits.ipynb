{
 "cells": [
  {
   "cell_type": "code",
   "execution_count": null,
   "id": "3066057d",
   "metadata": {},
   "outputs": [],
   "source": [
    "import sys\n",
    "!{sys.executable} -m pip install PyGithub\n"
   ]
  },
  {
   "cell_type": "code",
   "execution_count": null,
   "id": "9a46e6d4",
   "metadata": {},
   "outputs": [],
   "source": [
    "import sys\n",
    "!{sys.executable} -m pip install nest_asyncio\n"
   ]
  },
  {
   "cell_type": "code",
   "execution_count": null,
   "id": "62d3a624",
   "metadata": {},
   "outputs": [],
   "source": [
    "import sys\n",
    "!{sys.executable} -m pip install gql"
   ]
  },
  {
   "cell_type": "code",
   "execution_count": 1,
   "id": "474a219e",
   "metadata": {},
   "outputs": [],
   "source": [
    "import popular_gits"
   ]
  },
  {
   "cell_type": "code",
   "execution_count": 2,
   "id": "3201b56e",
   "metadata": {},
   "outputs": [],
   "source": [
    "import os"
   ]
  },
  {
   "cell_type": "code",
   "execution_count": 3,
   "id": "8a09a252",
   "metadata": {},
   "outputs": [],
   "source": [
    "sg = popular_gits.popular_gits(\"test_reduced\", os.environ['GITHUB_KEY'], \"graphql-python\", \"gql\")"
   ]
  },
  {
   "cell_type": "code",
   "execution_count": 4,
   "id": "91acddae",
   "metadata": {},
   "outputs": [],
   "source": [
    "sg.reset()"
   ]
  },
  {
   "cell_type": "code",
   "execution_count": 5,
   "id": "2365a216",
   "metadata": {},
   "outputs": [],
   "source": [
    "sg.run()"
   ]
  },
  {
   "cell_type": "code",
   "execution_count": 1,
   "id": "8406e17e",
   "metadata": {},
   "outputs": [],
   "source": [
    "import categorise"
   ]
  },
  {
   "cell_type": "code",
   "execution_count": null,
   "id": "85598570",
   "metadata": {},
   "outputs": [],
   "source": [
    "r = categorise.get_popularity_lists('QuantlibStarredGithubs_Top150.csv')"
   ]
  },
  {
   "cell_type": "code",
   "execution_count": null,
   "id": "4412042e",
   "metadata": {},
   "outputs": [],
   "source": [
    "categorise.create_popularity_list_file(r, 'QuantlibPopularLists.csv')"
   ]
  },
  {
   "cell_type": "code",
   "execution_count": null,
   "id": "74c0dfb9",
   "metadata": {},
   "outputs": [],
   "source": [
    "categorise.get_relative_popularity('QuantlibStarredGithubs_Top150.csv', 'QuantLibrel_pop2.csv')"
   ]
  }
 ],
 "metadata": {
  "kernelspec": {
   "display_name": "Python 3.10.4 64-bit",
   "language": "python",
   "name": "python3"
  },
  "language_info": {
   "codemirror_mode": {
    "name": "ipython",
    "version": 3
   },
   "file_extension": ".py",
   "mimetype": "text/x-python",
   "name": "python",
   "nbconvert_exporter": "python",
   "pygments_lexer": "ipython3",
   "version": "3.10.4"
  },
  "vscode": {
   "interpreter": {
    "hash": "916dbcbb3f70747c44a77c7bcd40155683ae19c65e1c03b4aa3499c5328201f1"
   }
  }
 },
 "nbformat": 4,
 "nbformat_minor": 5
}
